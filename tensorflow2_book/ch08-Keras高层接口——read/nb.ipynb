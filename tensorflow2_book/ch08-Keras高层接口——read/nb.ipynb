{
 "cells": [
  {
   "cell_type": "code",
   "execution_count": 2,
   "metadata": {
    "ExecuteTime": {
     "end_time": "2020-05-16T13:25:10.547118Z",
     "start_time": "2020-05-16T13:25:10.541586Z"
    }
   },
   "outputs": [],
   "source": [
    "import tensorflow as tf\n",
    "from tensorflow import keras\n",
    "from tensorflow.keras import layers,Sequential,losses,optimizers,datasets"
   ]
  },
  {
   "cell_type": "code",
   "execution_count": 5,
   "metadata": {
    "ExecuteTime": {
     "end_time": "2020-05-16T13:26:15.312544Z",
     "start_time": "2020-05-16T13:26:15.300791Z"
    }
   },
   "outputs": [
    {
     "data": {
      "text/plain": [
       "<tf.Tensor: id=6, shape=(3,), dtype=float32, numpy=array([0.6590012 , 0.24243298, 0.09856589], dtype=float32)>"
      ]
     },
     "execution_count": 5,
     "metadata": {},
     "output_type": "execute_result"
    }
   ],
   "source": [
    "x = tf.constant([2.,1.,0.1])\n",
    "layer = layers.Softmax(axis=-1)\n",
    "layer(x)"
   ]
  },
  {
   "cell_type": "code",
   "execution_count": 6,
   "metadata": {
    "ExecuteTime": {
     "end_time": "2020-05-16T13:26:47.304489Z",
     "start_time": "2020-05-16T13:26:47.297776Z"
    },
    "collapsed": true
   },
   "outputs": [],
   "source": [
    "def proprocess(x,y):\n",
    "    x = tf.reshape(x, [-1]) \n",
    "    return x,y"
   ]
  },
  {
   "cell_type": "code",
   "execution_count": 7,
   "metadata": {
    "ExecuteTime": {
     "end_time": "2020-05-16T13:27:25.720626Z",
     "start_time": "2020-05-16T13:27:24.428446Z"
    },
    "collapsed": true
   },
   "outputs": [],
   "source": [
    "(x, y), (x_test,y_test) = datasets.mnist.load_data()\n",
    "# x: [0~255] => [0~1.]\n",
    "x = tf.convert_to_tensor(x, dtype=tf.float32) / 255.\n",
    "y = tf.convert_to_tensor(y, dtype=tf.int32) "
   ]
  },
  {
   "cell_type": "code",
   "execution_count": 8,
   "metadata": {
    "ExecuteTime": {
     "end_time": "2020-05-16T13:28:04.052922Z",
     "start_time": "2020-05-16T13:28:03.988961Z"
    },
    "collapsed": true
   },
   "outputs": [],
   "source": [
    "# x: [0~255] => [0~1.]\n",
    "x_test = tf.convert_to_tensor(x_test, dtype=tf.float32) / 255.\n",
    "y_test = tf.convert_to_tensor(y_test, dtype=tf.int32) "
   ]
  },
  {
   "cell_type": "code",
   "execution_count": 11,
   "metadata": {
    "ExecuteTime": {
     "end_time": "2020-05-16T13:29:53.146959Z",
     "start_time": "2020-05-16T13:29:52.744110Z"
    },
    "collapsed": true
   },
   "outputs": [],
   "source": [
    "train_db = tf.data.Dataset.from_tensor_slices((x,y))\n",
    "train_db = train_db.shuffle(1000).map(proprocess).batch(128)\n",
    "\n",
    "val_db = tf.data.Dataset.from_tensor_slices((x_test,y_test))\n",
    "val_db = val_db.shuffle(1000).map(proprocess).batch(128)"
   ]
  },
  {
   "cell_type": "code",
   "execution_count": 13,
   "metadata": {
    "ExecuteTime": {
     "end_time": "2020-05-16T13:31:10.234922Z",
     "start_time": "2020-05-16T13:31:09.840254Z"
    }
   },
   "outputs": [
    {
     "name": "stdout",
     "output_type": "stream",
     "text": [
      "(128, 784) (128,)\n"
     ]
    }
   ],
   "source": [
    "x,y = next(iter(train_db))\n",
    "print(x.shape, y.shape)"
   ]
  },
  {
   "cell_type": "code",
   "execution_count": 14,
   "metadata": {
    "ExecuteTime": {
     "end_time": "2020-05-16T13:31:51.647314Z",
     "start_time": "2020-05-16T13:31:51.589624Z"
    }
   },
   "outputs": [
    {
     "data": {
      "text/plain": [
       "<tf.Tensor: id=119, shape=(4, 2), dtype=float32, numpy=\n",
       "array([[0.       , 0.       ],\n",
       "       [0.       , 0.9576672],\n",
       "       [0.       , 0.       ],\n",
       "       [0.       , 0.8489804]], dtype=float32)>"
      ]
     },
     "execution_count": 14,
     "metadata": {},
     "output_type": "execute_result"
    }
   ],
   "source": [
    "from tensorflow.keras import layers, Sequential\n",
    "network = Sequential([\n",
    "    layers.Dense(3, activation=None),\n",
    "    layers.ReLU(),\n",
    "    layers.Dense(2, activation=None),\n",
    "    layers.ReLU()\n",
    "])\n",
    "x = tf.random.normal([4,3])\n",
    "network(x)"
   ]
  },
  {
   "cell_type": "code",
   "execution_count": 15,
   "metadata": {
    "ExecuteTime": {
     "end_time": "2020-05-16T13:32:27.444109Z",
     "start_time": "2020-05-16T13:32:27.388491Z"
    }
   },
   "outputs": [
    {
     "name": "stdout",
     "output_type": "stream",
     "text": [
      "Model: \"sequential_1\"\n",
      "_________________________________________________________________\n",
      "Layer (type)                 Output Shape              Param #   \n",
      "=================================================================\n",
      "dense_2 (Dense)              multiple                  15        \n",
      "_________________________________________________________________\n",
      "re_lu_2 (ReLU)               multiple                  0         \n",
      "_________________________________________________________________\n",
      "dense_3 (Dense)              multiple                  12        \n",
      "_________________________________________________________________\n",
      "re_lu_3 (ReLU)               multiple                  0         \n",
      "=================================================================\n",
      "Total params: 27\n",
      "Trainable params: 27\n",
      "Non-trainable params: 0\n",
      "_________________________________________________________________\n"
     ]
    }
   ],
   "source": [
    "layers_num = 2\n",
    "network = Sequential([])\n",
    "for _ in range(layers_num):\n",
    "    network.add(layers.Dense(3))\n",
    "    network.add(layers.ReLU())\n",
    "network.build(input_shape=(None, 4))\n",
    "network.summary()"
   ]
  },
  {
   "cell_type": "code",
   "execution_count": 16,
   "metadata": {
    "ExecuteTime": {
     "end_time": "2020-05-16T13:32:46.824229Z",
     "start_time": "2020-05-16T13:32:46.814449Z"
    }
   },
   "outputs": [
    {
     "name": "stdout",
     "output_type": "stream",
     "text": [
      "dense_2/kernel:0 (4, 3)\n",
      "dense_2/bias:0 (3,)\n",
      "dense_3/kernel:0 (3, 3)\n",
      "dense_3/bias:0 (3,)\n"
     ]
    }
   ],
   "source": [
    "for p in network.trainable_variables:\n",
    "    print(p.name, p.shape)"
   ]
  },
  {
   "cell_type": "code",
   "execution_count": 17,
   "metadata": {
    "ExecuteTime": {
     "end_time": "2020-05-16T13:33:07.942459Z",
     "start_time": "2020-05-16T13:33:07.834844Z"
    }
   },
   "outputs": [
    {
     "name": "stdout",
     "output_type": "stream",
     "text": [
      "Model: \"sequential_2\"\n",
      "_________________________________________________________________\n",
      "Layer (type)                 Output Shape              Param #   \n",
      "=================================================================\n",
      "dense_4 (Dense)              multiple                  200960    \n",
      "_________________________________________________________________\n",
      "dense_5 (Dense)              multiple                  32896     \n",
      "_________________________________________________________________\n",
      "dense_6 (Dense)              multiple                  8256      \n",
      "_________________________________________________________________\n",
      "dense_7 (Dense)              multiple                  2080      \n",
      "_________________________________________________________________\n",
      "dense_8 (Dense)              multiple                  330       \n",
      "=================================================================\n",
      "Total params: 244,522\n",
      "Trainable params: 244,522\n",
      "Non-trainable params: 0\n",
      "_________________________________________________________________\n"
     ]
    }
   ],
   "source": [
    "# 创建5层的全连接层网络\n",
    "network = Sequential([layers.Dense(256, activation='relu'),\n",
    "                     layers.Dense(128, activation='relu'),\n",
    "                     layers.Dense(64, activation='relu'),\n",
    "                     layers.Dense(32, activation='relu'),\n",
    "                     layers.Dense(10)])\n",
    "network.build(input_shape=(4, 28*28))\n",
    "network.summary()"
   ]
  },
  {
   "cell_type": "code",
   "execution_count": 18,
   "metadata": {
    "ExecuteTime": {
     "end_time": "2020-05-16T13:33:59.778513Z",
     "start_time": "2020-05-16T13:33:59.770041Z"
    },
    "collapsed": true
   },
   "outputs": [],
   "source": [
    "# 导入优化器，损失函数模块\n",
    "from tensorflow.keras import optimizers,losses \n",
    "# 采用Adam优化器，学习率为0.01;采用交叉熵损失函数，包含Softmax\n",
    "network.compile(optimizer=optimizers.Adam(lr=0.01),\n",
    "                loss=losses.CategoricalCrossentropy(from_logits=True),\n",
    "                metrics=['accuracy'] # 设置测量指标为准确率\n",
    ")"
   ]
  },
  {
   "cell_type": "code",
   "execution_count": 19,
   "metadata": {
    "ExecuteTime": {
     "end_time": "2020-05-16T13:35:26.537308Z",
     "start_time": "2020-05-16T13:34:38.091217Z"
    }
   },
   "outputs": [
    {
     "name": "stdout",
     "output_type": "stream",
     "text": [
      "Epoch 1/5\n",
      "469/469 [==============================] - 11s 24ms/step - loss: 8727088565573.2363 - accuracy: 0.0000e+00\n",
      "Epoch 2/5\n",
      "469/469 [==============================] - 10s 22ms/step - loss: 308831501306207.8750 - accuracy: 0.0000e+00 - val_loss: 784673068179767.1250 - val_accuracy: 0.0000e+00\n",
      "Epoch 3/5\n",
      "469/469 [==============================] - 9s 18ms/step - loss: 1736269084186629.0000 - accuracy: 0.0000e+00\n",
      "Epoch 4/5\n",
      "469/469 [==============================] - 10s 21ms/step - loss: 5134192921791909.0000 - accuracy: 0.0000e+00 - val_loss: 7689690255322255.0000 - val_accuracy: 0.0000e+00\n",
      "Epoch 5/5\n",
      "469/469 [==============================] - 8s 17ms/step - loss: 11118853762578488.0000 - accuracy: 0.0000e+00\n"
     ]
    }
   ],
   "source": [
    "# 指定训练集为db，验证集为val_db,训练5个epochs，每2个epoch验证一次\n",
    "history = network.fit(train_db, \n",
    "                      epochs=5, \n",
    "                      validation_data=val_db, \n",
    "                      validation_freq=2)"
   ]
  },
  {
   "cell_type": "code",
   "execution_count": null,
   "metadata": {
    "collapsed": true
   },
   "outputs": [],
   "source": [
    "history.history # 打印训练记录"
   ]
  },
  {
   "cell_type": "code",
   "execution_count": 20,
   "metadata": {
    "ExecuteTime": {
     "end_time": "2020-05-16T13:35:28.679695Z",
     "start_time": "2020-05-16T13:35:28.600114Z"
    }
   },
   "outputs": [
    {
     "name": "stdout",
     "output_type": "stream",
     "text": [
      "saved weights.\n"
     ]
    }
   ],
   "source": [
    "# 保存模型参数到文件上\n",
    "network.save_weights('weights.ckpt')\n",
    "print('saved weights.')"
   ]
  },
  {
   "cell_type": "code",
   "execution_count": 21,
   "metadata": {
    "ExecuteTime": {
     "end_time": "2020-05-16T13:36:58.521240Z",
     "start_time": "2020-05-16T13:36:58.502985Z"
    },
    "collapsed": true
   },
   "outputs": [],
   "source": [
    "del network # 删除网络对象\n",
    "# 重新创建相同的网络结构\n",
    "network = Sequential([layers.Dense(256, activation='relu'),\n",
    "                     layers.Dense(128, activation='relu'),\n",
    "                     layers.Dense(64, activation='relu'),\n",
    "                     layers.Dense(32, activation='relu'),\n",
    "                     layers.Dense(10)])\n",
    "network.compile(optimizer=optimizers.Adam(lr=0.01),\n",
    "                loss=tf.losses.CategoricalCrossentropy(from_logits=True),\n",
    "                metrics=['accuracy']\n",
    "               ) "
   ]
  },
  {
   "cell_type": "code",
   "execution_count": 22,
   "metadata": {
    "ExecuteTime": {
     "end_time": "2020-05-16T13:37:32.144070Z",
     "start_time": "2020-05-16T13:37:32.123212Z"
    }
   },
   "outputs": [
    {
     "name": "stdout",
     "output_type": "stream",
     "text": [
      "loaded weights!\n"
     ]
    }
   ],
   "source": [
    "# 从参数文件中读取数据并写入当前网络\n",
    "network.load_weights('weights.ckpt')\n",
    "print('loaded weights!')"
   ]
  },
  {
   "cell_type": "code",
   "execution_count": 23,
   "metadata": {
    "ExecuteTime": {
     "end_time": "2020-05-16T13:38:17.924371Z",
     "start_time": "2020-05-16T13:38:17.902648Z"
    }
   },
   "outputs": [
    {
     "name": "stdout",
     "output_type": "stream",
     "text": [
      "(4, 2048)\n"
     ]
    }
   ],
   "source": [
    "# 新建池化层\n",
    "global_average_layer = layers.GlobalAveragePooling2D()\n",
    "# 利用上一层的输出作为本层的输入，测试其输出\n",
    "x = tf.random.normal([4,7,7,2048])\n",
    "out = global_average_layer(x) # 池化层降维\n",
    "print(out.shape)"
   ]
  },
  {
   "cell_type": "code",
   "execution_count": 24,
   "metadata": {
    "ExecuteTime": {
     "end_time": "2020-05-16T13:38:30.775908Z",
     "start_time": "2020-05-16T13:38:30.751764Z"
    }
   },
   "outputs": [
    {
     "name": "stdout",
     "output_type": "stream",
     "text": [
      "(4, 100)\n"
     ]
    }
   ],
   "source": [
    "# 新建全连接层\n",
    "fc = layers.Dense(100)\n",
    "# 利用上一层的输出作为本层的输入，测试其输出\n",
    "x = tf.random.normal([4,2048])\n",
    "out = fc(x)\n",
    "print(out.shape)"
   ]
  },
  {
   "cell_type": "code",
   "execution_count": null,
   "metadata": {
    "collapsed": true
   },
   "outputs": [],
   "source": []
  }
 ],
 "metadata": {
  "kernelspec": {
   "display_name": "Python 3",
   "language": "python",
   "name": "python3"
  },
  "language_info": {
   "codemirror_mode": {
    "name": "ipython",
    "version": 3
   },
   "file_extension": ".py",
   "mimetype": "text/x-python",
   "name": "python",
   "nbconvert_exporter": "python",
   "pygments_lexer": "ipython3",
   "version": "3.6.2"
  }
 },
 "nbformat": 4,
 "nbformat_minor": 2
}
