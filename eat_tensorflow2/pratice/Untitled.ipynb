{
 "cells": [
  {
   "cell_type": "markdown",
   "metadata": {},
   "source": [
    "## tf.estimator, tf.feature_column, keras_to_estimator"
   ]
  },
  {
   "cell_type": "code",
   "execution_count": 2,
   "metadata": {
    "ExecuteTime": {
     "end_time": "2020-05-16T02:34:04.576887Z",
     "start_time": "2020-05-16T02:34:04.348151Z"
    }
   },
   "outputs": [
    {
     "name": "stdout",
     "output_type": "stream",
     "text": [
      "2.0.0\n",
      "sys.version_info(major=3, minor=6, micro=2, releaselevel='final', serial=0)\n",
      "matplotlib 2.0.2\n",
      "numpy 1.17.0\n",
      "pandas 0.24.2\n",
      "sklearn 0.22.2.post1\n",
      "tensorflow 2.0.0\n",
      "tensorflow_core.keras 2.2.4-tf\n"
     ]
    }
   ],
   "source": [
    "import matplotlib as mpl\n",
    "import matplotlib.pyplot as plt\n",
    "%matplotlib inline\n",
    "import numpy as np\n",
    "import sklearn\n",
    "import pandas as pd\n",
    "import os\n",
    "import sys\n",
    "import time\n",
    "import tensorflow as tf\n",
    "from tensorflow import keras\n",
    "\n",
    "print(tf.__version__)\n",
    "print(sys.version_info)\n",
    "for module in mpl,np,pd,sklearn,tf,keras:\n",
    "    print(module.__name__,module.__version__)"
   ]
  },
  {
   "cell_type": "code",
   "execution_count": 3,
   "metadata": {
    "ExecuteTime": {
     "end_time": "2020-05-16T02:34:39.608540Z",
     "start_time": "2020-05-16T02:34:39.136564Z"
    }
   },
   "outputs": [
    {
     "name": "stdout",
     "output_type": "stream",
     "text": [
      "   survived     sex   age  n_siblings_spouses  parch     fare  class     deck  \\\n",
      "0         0    male  22.0                   1      0   7.2500  Third  unknown   \n",
      "1         1  female  38.0                   1      0  71.2833  First        C   \n",
      "2         1  female  26.0                   0      0   7.9250  Third  unknown   \n",
      "3         1  female  35.0                   1      0  53.1000  First        C   \n",
      "4         0    male  28.0                   0      0   8.4583  Third  unknown   \n",
      "\n",
      "   embark_town alone  \n",
      "0  Southampton     n  \n",
      "1    Cherbourg     n  \n",
      "2  Southampton     y  \n",
      "3  Southampton     n  \n",
      "4   Queenstown     y  \n",
      "   survived     sex   age  n_siblings_spouses  parch     fare   class  \\\n",
      "0         0    male  35.0                   0      0   8.0500   Third   \n",
      "1         0    male  54.0                   0      0  51.8625   First   \n",
      "2         1  female  58.0                   0      0  26.5500   First   \n",
      "3         1  female  55.0                   0      0  16.0000  Second   \n",
      "4         1    male  34.0                   0      0  13.0000  Second   \n",
      "\n",
      "      deck  embark_town alone  \n",
      "0  unknown  Southampton     y  \n",
      "1        E  Southampton     y  \n",
      "2        C  Southampton     y  \n",
      "3  unknown  Southampton     y  \n",
      "4        D  Southampton     y  \n"
     ]
    }
   ],
   "source": [
    "# 读取数据\n",
    "train_file = '/Volumes/TOSHIBA/titanic/train_new.csv'\n",
    "eval_file = '/Volumes/TOSHIBA/titanic/eval_new.csv'\n",
    "\n",
    "train_df = pd.read_csv(train_file)\n",
    "eval_df = pd.read_csv(eval_file)\n",
    "\n",
    "print(train_df.head())\n",
    "print(eval_df.head())"
   ]
  },
  {
   "cell_type": "code",
   "execution_count": 4,
   "metadata": {
    "ExecuteTime": {
     "end_time": "2020-05-16T02:35:33.455307Z",
     "start_time": "2020-05-16T02:35:33.415933Z"
    }
   },
   "outputs": [
    {
     "name": "stdout",
     "output_type": "stream",
     "text": [
      "      sex   age  n_siblings_spouses  parch     fare  class     deck  \\\n",
      "0    male  22.0                   1      0   7.2500  Third  unknown   \n",
      "1  female  38.0                   1      0  71.2833  First        C   \n",
      "2  female  26.0                   0      0   7.9250  Third  unknown   \n",
      "3  female  35.0                   1      0  53.1000  First        C   \n",
      "4    male  28.0                   0      0   8.4583  Third  unknown   \n",
      "\n",
      "   embark_town alone  \n",
      "0  Southampton     n  \n",
      "1    Cherbourg     n  \n",
      "2  Southampton     y  \n",
      "3  Southampton     n  \n",
      "4   Queenstown     y  \n",
      "      sex   age  n_siblings_spouses  parch     fare   class     deck  \\\n",
      "0    male  35.0                   0      0   8.0500   Third  unknown   \n",
      "1    male  54.0                   0      0  51.8625   First        E   \n",
      "2  female  58.0                   0      0  26.5500   First        C   \n",
      "3  female  55.0                   0      0  16.0000  Second  unknown   \n",
      "4    male  34.0                   0      0  13.0000  Second        D   \n",
      "\n",
      "   embark_town alone  \n",
      "0  Southampton     y  \n",
      "1  Southampton     y  \n",
      "2  Southampton     y  \n",
      "3  Southampton     y  \n",
      "4  Southampton     y  \n",
      "0    0\n",
      "1    1\n",
      "2    1\n",
      "3    1\n",
      "4    0\n",
      "Name: survived, dtype: int64\n",
      "0    0\n",
      "1    0\n",
      "2    1\n",
      "3    1\n",
      "4    1\n",
      "Name: survived, dtype: int64\n"
     ]
    }
   ],
   "source": [
    "y_train = train_df.pop('survived')\n",
    "y_eval = eval_df.pop('survived')\n",
    "\n",
    "print(train_df.head())\n",
    "print(eval_df.head())\n",
    "print(y_train.head())\n",
    "print(y_eval.head())"
   ]
  },
  {
   "cell_type": "code",
   "execution_count": 6,
   "metadata": {
    "ExecuteTime": {
     "end_time": "2020-05-16T02:36:28.660778Z",
     "start_time": "2020-05-16T02:36:28.654784Z"
    }
   },
   "outputs": [
    {
     "name": "stdout",
     "output_type": "stream",
     "text": [
      "(627, 9) (264, 9)\n"
     ]
    }
   ],
   "source": [
    "# 查看统计量\n",
    "print(train_df.shape,eval_df.shape)"
   ]
  },
  {
   "cell_type": "code",
   "execution_count": 7,
   "metadata": {
    "ExecuteTime": {
     "end_time": "2020-05-16T02:36:33.004516Z",
     "start_time": "2020-05-16T02:36:32.904362Z"
    }
   },
   "outputs": [
    {
     "data": {
      "text/html": [
       "<div>\n",
       "<style scoped>\n",
       "    .dataframe tbody tr th:only-of-type {\n",
       "        vertical-align: middle;\n",
       "    }\n",
       "\n",
       "    .dataframe tbody tr th {\n",
       "        vertical-align: top;\n",
       "    }\n",
       "\n",
       "    .dataframe thead th {\n",
       "        text-align: right;\n",
       "    }\n",
       "</style>\n",
       "<table border=\"1\" class=\"dataframe\">\n",
       "  <thead>\n",
       "    <tr style=\"text-align: right;\">\n",
       "      <th></th>\n",
       "      <th>age</th>\n",
       "      <th>n_siblings_spouses</th>\n",
       "      <th>parch</th>\n",
       "      <th>fare</th>\n",
       "    </tr>\n",
       "  </thead>\n",
       "  <tbody>\n",
       "    <tr>\n",
       "      <th>count</th>\n",
       "      <td>627.000000</td>\n",
       "      <td>627.000000</td>\n",
       "      <td>627.000000</td>\n",
       "      <td>627.000000</td>\n",
       "    </tr>\n",
       "    <tr>\n",
       "      <th>mean</th>\n",
       "      <td>29.631308</td>\n",
       "      <td>0.545455</td>\n",
       "      <td>0.379585</td>\n",
       "      <td>34.385399</td>\n",
       "    </tr>\n",
       "    <tr>\n",
       "      <th>std</th>\n",
       "      <td>12.511818</td>\n",
       "      <td>1.151090</td>\n",
       "      <td>0.792999</td>\n",
       "      <td>54.597730</td>\n",
       "    </tr>\n",
       "    <tr>\n",
       "      <th>min</th>\n",
       "      <td>0.750000</td>\n",
       "      <td>0.000000</td>\n",
       "      <td>0.000000</td>\n",
       "      <td>0.000000</td>\n",
       "    </tr>\n",
       "    <tr>\n",
       "      <th>25%</th>\n",
       "      <td>23.000000</td>\n",
       "      <td>0.000000</td>\n",
       "      <td>0.000000</td>\n",
       "      <td>7.895800</td>\n",
       "    </tr>\n",
       "    <tr>\n",
       "      <th>50%</th>\n",
       "      <td>28.000000</td>\n",
       "      <td>0.000000</td>\n",
       "      <td>0.000000</td>\n",
       "      <td>15.045800</td>\n",
       "    </tr>\n",
       "    <tr>\n",
       "      <th>75%</th>\n",
       "      <td>35.000000</td>\n",
       "      <td>1.000000</td>\n",
       "      <td>0.000000</td>\n",
       "      <td>31.387500</td>\n",
       "    </tr>\n",
       "    <tr>\n",
       "      <th>max</th>\n",
       "      <td>80.000000</td>\n",
       "      <td>8.000000</td>\n",
       "      <td>5.000000</td>\n",
       "      <td>512.329200</td>\n",
       "    </tr>\n",
       "  </tbody>\n",
       "</table>\n",
       "</div>"
      ],
      "text/plain": [
       "              age  n_siblings_spouses       parch        fare\n",
       "count  627.000000          627.000000  627.000000  627.000000\n",
       "mean    29.631308            0.545455    0.379585   34.385399\n",
       "std     12.511818            1.151090    0.792999   54.597730\n",
       "min      0.750000            0.000000    0.000000    0.000000\n",
       "25%     23.000000            0.000000    0.000000    7.895800\n",
       "50%     28.000000            0.000000    0.000000   15.045800\n",
       "75%     35.000000            1.000000    0.000000   31.387500\n",
       "max     80.000000            8.000000    5.000000  512.329200"
      ]
     },
     "execution_count": 7,
     "metadata": {},
     "output_type": "execute_result"
    }
   ],
   "source": [
    "train_df.describe()"
   ]
  },
  {
   "cell_type": "code",
   "execution_count": 10,
   "metadata": {
    "ExecuteTime": {
     "end_time": "2020-05-16T02:37:40.347148Z",
     "start_time": "2020-05-16T02:37:39.828064Z"
    }
   },
   "outputs": [
    {
     "data": {
      "text/plain": [
       "<matplotlib.axes._subplots.AxesSubplot at 0x1a2b7c0eb8>"
      ]
     },
     "execution_count": 10,
     "metadata": {},
     "output_type": "execute_result"
    },
    {
     "data": {
      "image/png": "[encoded data removed]",
      "text/plain": [
       "<matplotlib.figure.Figure at 0x1a2b874c88>"
      ]
     },
     "metadata": {},
     "output_type": "display_data"
    }
   ],
   "source": [
    "# 查看年龄分布，直方图\n",
    "train_df.age.hist(bins=20)"
   ]
  },
  {
   "cell_type": "code",
   "execution_count": 11,
   "metadata": {
    "ExecuteTime": {
     "end_time": "2020-05-16T02:38:02.229910Z",
     "start_time": "2020-05-16T02:38:01.802262Z"
    }
   },
   "outputs": [
    {
     "data": {
      "text/plain": [
       "<matplotlib.axes._subplots.AxesSubplot at 0x1a2b973d68>"
      ]
     },
     "execution_count": 11,
     "metadata": {},
     "output_type": "execute_result"
    },
    {
     "data": {
      "image/png": "[encoded data removed]",
      "text/plain": [
       "<matplotlib.figure.Figure at 0x1a2b99f128>"
      ]
     },
     "metadata": {},
     "output_type": "display_data"
    }
   ],
   "source": [
    "# 查看性别分布\n",
    "train_df.sex.value_counts().plot(kind = 'barh') "
   ]
  },
  {
   "cell_type": "code",
   "execution_count": 12,
   "metadata": {
    "ExecuteTime": {
     "end_time": "2020-05-16T02:38:55.610675Z",
     "start_time": "2020-05-16T02:38:55.293276Z"
    },
    "scrolled": true
   },
   "outputs": [
    {
     "data": {
      "text/plain": [
       "<matplotlib.axes._subplots.AxesSubplot at 0x1a2bc25780>"
      ]
     },
     "execution_count": 12,
     "metadata": {},
     "output_type": "execute_result"
    },
    {
     "data": {
      "image/png": "[encoded data removed]",
      "text/plain": [
       "<matplotlib.figure.Figure at 0x1a2bc2b550>"
      ]
     },
     "metadata": {},
     "output_type": "display_data"
    }
   ],
   "source": [
    "# 查看类别分布\n",
    "train_df['class'].value_counts().plot(kind = 'barh')"
   ]
  },
  {
   "cell_type": "code",
   "execution_count": 14,
   "metadata": {
    "ExecuteTime": {
     "end_time": "2020-05-16T02:42:37.210597Z",
     "start_time": "2020-05-16T02:42:37.055161Z"
    }
   },
   "outputs": [
    {
     "name": "stdout",
     "output_type": "stream",
     "text": [
      "sex ['male' 'female']\n",
      "n_siblings_spouses [1 0 3 4 2 5 8]\n",
      "parch [0 1 2 5 3 4]\n",
      "class ['Third' 'First' 'Second']\n",
      "deck ['unknown' 'C' 'G' 'A' 'B' 'D' 'F' 'E']\n",
      "embark_town ['Southampton' 'Cherbourg' 'Queenstown' 'unknown']\n",
      "alone ['n' 'y']\n"
     ]
    }
   ],
   "source": [
    "# 离散特征\n",
    "categorical_colums = ['sex','n_siblings_spouses','parch','class','deck','embark_town','alone']\n",
    "numerical_columns = ['age','fare']\n",
    "\n",
    "feature_columns = []\n",
    "# 离散\n",
    "for categorical_column in categorical_colums:\n",
    "    vocab = train_df[categorical_column].unique() # 获取所有可能的值, list\n",
    "    print(categorical_column,vocab)\n",
    "    # one-hot 编码，\n",
    "    feature_columns.append(\n",
    "        tf.feature_column.indicator_column(tf.feature_column.categorical_column_with_vocabulary_list(categorical_column,vocab)))\n",
    "\n",
    "# 连续\n",
    "for categorical_column in numerical_columns:\n",
    "    feature_columns.append(tf.feature_column.numeric_column(categorical_column,dtype=tf.float32))\n"
   ]
  },
  {
   "cell_type": "code",
   "execution_count": 20,
   "metadata": {
    "ExecuteTime": {
     "end_time": "2020-05-16T02:46:25.174532Z",
     "start_time": "2020-05-16T02:46:25.152765Z"
    }
   },
   "outputs": [
    {
     "data": {
      "text/plain": [
       "[IndicatorColumn(categorical_column=VocabularyListCategoricalColumn(key='sex', vocabulary_list=('male', 'female'), dtype=tf.string, default_value=-1, num_oov_buckets=0)),\n",
       " IndicatorColumn(categorical_column=VocabularyListCategoricalColumn(key='n_siblings_spouses', vocabulary_list=(1, 0, 3, 4, 2, 5, 8), dtype=tf.int64, default_value=-1, num_oov_buckets=0)),\n",
       " IndicatorColumn(categorical_column=VocabularyListCategoricalColumn(key='parch', vocabulary_list=(0, 1, 2, 5, 3, 4), dtype=tf.int64, default_value=-1, num_oov_buckets=0)),\n",
       " IndicatorColumn(categorical_column=VocabularyListCategoricalColumn(key='class', vocabulary_list=('Third', 'First', 'Second'), dtype=tf.string, default_value=-1, num_oov_buckets=0)),\n",
       " IndicatorColumn(categorical_column=VocabularyListCategoricalColumn(key='deck', vocabulary_list=('unknown', 'C', 'G', 'A', 'B', 'D', 'F', 'E'), dtype=tf.string, default_value=-1, num_oov_buckets=0)),\n",
       " IndicatorColumn(categorical_column=VocabularyListCategoricalColumn(key='embark_town', vocabulary_list=('Southampton', 'Cherbourg', 'Queenstown', 'unknown'), dtype=tf.string, default_value=-1, num_oov_buckets=0)),\n",
       " IndicatorColumn(categorical_column=VocabularyListCategoricalColumn(key='alone', vocabulary_list=('n', 'y'), dtype=tf.string, default_value=-1, num_oov_buckets=0)),\n",
       " NumericColumn(key='age', shape=(1,), default_value=None, dtype=tf.float32, normalizer_fn=None),\n",
       " NumericColumn(key='fare', shape=(1,), default_value=None, dtype=tf.float32, normalizer_fn=None)]"
      ]
     },
     "execution_count": 20,
     "metadata": {},
     "output_type": "execute_result"
    }
   ],
   "source": [
    "feature_columns"
   ]
  },
  {
   "cell_type": "code",
   "execution_count": 15,
   "metadata": {
    "ExecuteTime": {
     "end_time": "2020-05-16T02:43:44.004561Z",
     "start_time": "2020-05-16T02:43:43.958491Z"
    },
    "collapsed": true
   },
   "outputs": [],
   "source": [
    "# 构建dataset\n",
    "def make_dataset(data_df,label_df,epochs=10,shuffle=True,batch_size = 32):\n",
    "    dataset = tf.data.Dataset.from_tensor_slices((dict(data_df),label_df))\n",
    "    if shuffle:\n",
    "        dataset = dataset.shuffle(10000)\n",
    "    dataset = dataset.repeat(epochs).batch(batch_size)\n",
    "    return dataset"
   ]
  },
  {
   "cell_type": "code",
   "execution_count": 16,
   "metadata": {
    "ExecuteTime": {
     "end_time": "2020-05-16T02:44:08.808471Z",
     "start_time": "2020-05-16T02:44:08.291955Z"
    },
    "collapsed": true
   },
   "outputs": [],
   "source": [
    "train_dataset = make_dataset(train_df,y_train,batch_size = 5)"
   ]
  },
  {
   "cell_type": "code",
   "execution_count": 19,
   "metadata": {
    "ExecuteTime": {
     "end_time": "2020-05-16T02:45:14.749371Z",
     "start_time": "2020-05-16T02:45:14.699801Z"
    }
   },
   "outputs": [
    {
     "name": "stdout",
     "output_type": "stream",
     "text": [
      "{'sex': <tf.Tensor: id=72, shape=(5,), dtype=string, numpy=array([b'male', b'female', b'male', b'female', b'male'], dtype=object)>, 'age': <tf.Tensor: id=64, shape=(5,), dtype=float64, numpy=array([36., 30., 33., 28., 49.])>, 'n_siblings_spouses': <tf.Tensor: id=70, shape=(5,), dtype=int32, numpy=array([0, 0, 0, 0, 1], dtype=int32)>, 'parch': <tf.Tensor: id=71, shape=(5,), dtype=int32, numpy=array([0, 0, 0, 2, 0], dtype=int32)>, 'fare': <tf.Tensor: id=69, shape=(5,), dtype=float64, numpy=array([40.125 ,  8.6625,  9.5   , 15.2458, 56.9292])>, 'class': <tf.Tensor: id=66, shape=(5,), dtype=string, numpy=array([b'First', b'Third', b'Third', b'Third', b'First'], dtype=object)>, 'deck': <tf.Tensor: id=67, shape=(5,), dtype=string, numpy=array([b'A', b'unknown', b'unknown', b'unknown', b'A'], dtype=object)>, 'embark_town': <tf.Tensor: id=68, shape=(5,), dtype=string, numpy=\n",
      "array([b'Cherbourg', b'Southampton', b'Southampton', b'Cherbourg',\n",
      "       b'Cherbourg'], dtype=object)>, 'alone': <tf.Tensor: id=65, shape=(5,), dtype=string, numpy=array([b'y', b'y', b'y', b'n', b'n'], dtype=object)>} tf.Tensor([0 0 0 0 1], shape=(5,), dtype=int32)\n"
     ]
    }
   ],
   "source": [
    "for x,y in train_dataset.take(1):\n",
    "    print(x,y)"
   ]
  },
  {
   "cell_type": "code",
   "execution_count": 21,
   "metadata": {
    "ExecuteTime": {
     "end_time": "2020-05-16T02:47:41.118957Z",
     "start_time": "2020-05-16T02:47:40.734852Z"
    }
   },
   "outputs": [
    {
     "name": "stderr",
     "output_type": "stream",
     "text": [
      "W0516 10:47:40.884976 140737132438464 base_layer.py:1814] Layer dense_features is casting an input tensor from dtype float64 to the layer's dtype of float32, which is new behavior in TensorFlow 2.  The layer has dtype float32 because it's dtype defaults to floatx.\n",
      "\n",
      "If you intended to run this layer in float32, you can safely ignore this warning. If in doubt, this warning is likely only an issue if you are porting a TensorFlow 1.X model to TensorFlow 2.\n",
      "\n",
      "To change all layers to have dtype float64 by default, call `tf.keras.backend.set_floatx('float64')`. To change just this layer, pass dtype='float64' to the layer constructor. If you are the author of this layer, you can disable autocasting by passing autocast=False to the base Layer constructor.\n",
      "\n",
      "W0516 10:47:41.009108 140737132438464 base_layer.py:1814] Layer dense_features_1 is casting an input tensor from dtype float64 to the layer's dtype of float32, which is new behavior in TensorFlow 2.  The layer has dtype float32 because it's dtype defaults to floatx.\n",
      "\n",
      "If you intended to run this layer in float32, you can safely ignore this warning. If in doubt, this warning is likely only an issue if you are porting a TensorFlow 1.X model to TensorFlow 2.\n",
      "\n",
      "To change all layers to have dtype float64 by default, call `tf.keras.backend.set_floatx('float64')`. To change just this layer, pass dtype='float64' to the layer constructor. If you are the author of this layer, you can disable autocasting by passing autocast=False to the base Layer constructor.\n",
      "\n",
      "W0516 10:47:41.095002 140737132438464 deprecation.py:323] From /anaconda3/lib/python3.6/site-packages/tensorflow_core/python/feature_column/feature_column_v2.py:4276: IndicatorColumn._variable_shape (from tensorflow.python.feature_column.feature_column_v2) is deprecated and will be removed in a future version.\n",
      "Instructions for updating:\n",
      "The old _FeatureColumn APIs are being deprecated. Please use the new FeatureColumn APIs instead.\n",
      "W0516 10:47:41.096866 140737132438464 deprecation.py:323] From /anaconda3/lib/python3.6/site-packages/tensorflow_core/python/feature_column/feature_column_v2.py:4331: VocabularyListCategoricalColumn._num_buckets (from tensorflow.python.feature_column.feature_column_v2) is deprecated and will be removed in a future version.\n",
      "Instructions for updating:\n",
      "The old _FeatureColumn APIs are being deprecated. Please use the new FeatureColumn APIs instead.\n"
     ]
    },
    {
     "name": "stdout",
     "output_type": "stream",
     "text": [
      "[[28. ]\n",
      " [40.5]\n",
      " [25. ]\n",
      " [28. ]\n",
      " [28. ]]\n",
      "[[1. 0.]\n",
      " [1. 0.]\n",
      " [1. 0.]\n",
      " [1. 0.]\n",
      " [1. 0.]]\n"
     ]
    }
   ],
   "source": [
    "# feature_column 与dataset 结合使用\n",
    "# keras.layers.DenFeature\n",
    "for x,y in train_dataset.take(1):\n",
    "    age_column = feature_columns[7]\n",
    "    gender_column = feature_columns[0]\n",
    "    print(keras.layers.DenseFeatures(age_column)(x).numpy())\n",
    "    print(keras.layers.DenseFeatures(gender_column)(x).numpy())"
   ]
  },
  {
   "cell_type": "code",
   "execution_count": 22,
   "metadata": {
    "ExecuteTime": {
     "end_time": "2020-05-16T02:49:41.005799Z",
     "start_time": "2020-05-16T02:49:40.865965Z"
    }
   },
   "outputs": [
    {
     "name": "stderr",
     "output_type": "stream",
     "text": [
      "W0516 10:49:40.915173 140737132438464 base_layer.py:1814] Layer dense_features_2 is casting an input tensor from dtype float64 to the layer's dtype of float32, which is new behavior in TensorFlow 2.  The layer has dtype float32 because it's dtype defaults to floatx.\n",
      "\n",
      "If you intended to run this layer in float32, you can safely ignore this warning. If in doubt, this warning is likely only an issue if you are porting a TensorFlow 1.X model to TensorFlow 2.\n",
      "\n",
      "To change all layers to have dtype float64 by default, call `tf.keras.backend.set_floatx('float64')`. To change just this layer, pass dtype='float64' to the layer constructor. If you are the author of this layer, you can disable autocasting by passing autocast=False to the base Layer constructor.\n",
      "\n"
     ]
    },
    {
     "name": "stdout",
     "output_type": "stream",
     "text": [
      "[[31.      1.      0.      0.      0.      1.      1.      0.      0.\n",
      "   0.      0.      0.      0.      0.      0.      1.      0.      0.\n",
      "  37.0042  1.      0.      0.      0.      0.      0.      0.      0.\n",
      "   1.      0.      0.      0.      0.      1.      0.    ]\n",
      " [20.      0.      1.      1.      0.      0.      1.      0.      0.\n",
      "   0.      0.      0.      0.      0.      1.      0.      0.      0.\n",
      "   9.225   0.      1.      0.      0.      0.      0.      0.      1.\n",
      "   0.      0.      0.      0.      0.      1.      0.    ]\n",
      " [27.      0.      1.      1.      0.      0.      1.      0.      0.\n",
      "   0.      0.      0.      0.      0.      1.      0.      0.      0.\n",
      "   7.8958  0.      1.      0.      0.      0.      0.      0.      1.\n",
      "   0.      0.      0.      0.      0.      1.      0.    ]\n",
      " [34.      1.      0.      1.      0.      0.      1.      0.      0.\n",
      "   0.      0.      0.      0.      0.      1.      0.      0.      0.\n",
      "  14.4     1.      0.      0.      0.      0.      0.      0.      0.\n",
      "   1.      0.      0.      0.      0.      1.      0.    ]\n",
      " [28.      1.      0.      1.      0.      0.      1.      0.      0.\n",
      "   0.      0.      0.      0.      0.      1.      0.      0.      0.\n",
      "  25.4667  0.      0.      1.      0.      0.      0.      0.      0.\n",
      "   1.      0.      0.      0.      0.      1.      0.    ]]\n"
     ]
    }
   ],
   "source": [
    "# feature_column 与dataset 结合使用\n",
    "# keras.layers.DenFeature\n",
    "for x,y in train_dataset.take(1):\n",
    "    print(keras.layers.DenseFeatures(feature_columns)(x).numpy())"
   ]
  },
  {
   "cell_type": "code",
   "execution_count": 23,
   "metadata": {
    "ExecuteTime": {
     "end_time": "2020-05-16T02:50:27.975929Z",
     "start_time": "2020-05-16T02:50:27.949427Z"
    },
    "collapsed": true
   },
   "outputs": [],
   "source": [
    "# 构建keras模型\n",
    "model = keras.models.Sequential([\n",
    "    keras.layers.DenseFeatures(feature_columns),\n",
    "    keras.layers.Dense(100,activation='relu'),\n",
    "    keras.layers.Dense(100,activation='relu'),\n",
    "    keras.layers.Dense(2,activation='softmax'),\n",
    "])\n",
    "\n",
    "model.compile(loss=\"sparse_categorical_crossentropy\",\n",
    "              optimizer = keras.optimizers.SGD(lr=0.01),\n",
    "              metrics=['accuracy'])"
   ]
  },
  {
   "cell_type": "code",
   "execution_count": 25,
   "metadata": {
    "ExecuteTime": {
     "end_time": "2020-05-16T02:54:48.823677Z",
     "start_time": "2020-05-16T02:54:41.307781Z"
    },
    "scrolled": true
   },
   "outputs": [
    {
     "name": "stdout",
     "output_type": "stream",
     "text": [
      "Train for 20 steps, validate for 8 steps\n",
      "Epoch 1/50\n",
      "20/20 [==============================] - 0s 12ms/step - loss: 0.5242 - accuracy: 0.7703 - val_loss: 0.4956 - val_accuracy: 0.7383\n",
      "Epoch 2/50\n",
      "20/20 [==============================] - 0s 7ms/step - loss: 0.4898 - accuracy: 0.7688 - val_loss: 0.5003 - val_accuracy: 0.7344\n",
      "Epoch 3/50\n",
      "20/20 [==============================] - 0s 9ms/step - loss: 0.4914 - accuracy: 0.7828 - val_loss: 0.5500 - val_accuracy: 0.7305\n",
      "Epoch 4/50\n",
      "20/20 [==============================] - 0s 5ms/step - loss: 0.5078 - accuracy: 0.7469 - val_loss: 0.5244 - val_accuracy: 0.7148\n",
      "Epoch 5/50\n",
      "20/20 [==============================] - 0s 8ms/step - loss: 0.5105 - accuracy: 0.7516 - val_loss: 0.4919 - val_accuracy: 0.7500\n",
      "Epoch 6/50\n",
      "20/20 [==============================] - 0s 8ms/step - loss: 0.5217 - accuracy: 0.7391 - val_loss: 0.4898 - val_accuracy: 0.7578\n",
      "Epoch 7/50\n",
      "20/20 [==============================] - 0s 6ms/step - loss: 0.5638 - accuracy: 0.7063 - val_loss: 0.4924 - val_accuracy: 0.7578\n",
      "Epoch 8/50\n",
      "20/20 [==============================] - 0s 9ms/step - loss: 0.4997 - accuracy: 0.7766 - val_loss: 0.5049 - val_accuracy: 0.7500\n",
      "Epoch 9/50\n",
      "20/20 [==============================] - 0s 7ms/step - loss: 0.5028 - accuracy: 0.7500 - val_loss: 0.5029 - val_accuracy: 0.7188\n",
      "Epoch 10/50\n",
      "20/20 [==============================] - 0s 6ms/step - loss: 0.5192 - accuracy: 0.7406 - val_loss: 0.4926 - val_accuracy: 0.7852\n",
      "Epoch 11/50\n",
      "20/20 [==============================] - 0s 9ms/step - loss: 0.5226 - accuracy: 0.7844 - val_loss: 0.5159 - val_accuracy: 0.7383\n",
      "Epoch 12/50\n",
      "20/20 [==============================] - 0s 5ms/step - loss: 0.4988 - accuracy: 0.7594 - val_loss: 0.7518 - val_accuracy: 0.6328\n",
      "Epoch 13/50\n",
      "20/20 [==============================] - 0s 6ms/step - loss: 0.5210 - accuracy: 0.7703 - val_loss: 0.5685 - val_accuracy: 0.7148\n",
      "Epoch 14/50\n",
      "20/20 [==============================] - 0s 8ms/step - loss: 0.5164 - accuracy: 0.7625 - val_loss: 0.5079 - val_accuracy: 0.7344\n",
      "Epoch 15/50\n",
      "20/20 [==============================] - 0s 6ms/step - loss: 0.4929 - accuracy: 0.7734 - val_loss: 0.5526 - val_accuracy: 0.6797\n",
      "Epoch 16/50\n",
      "20/20 [==============================] - 0s 7ms/step - loss: 0.5076 - accuracy: 0.7766 - val_loss: 0.5072 - val_accuracy: 0.7383\n",
      "Epoch 17/50\n",
      "20/20 [==============================] - 0s 8ms/step - loss: 0.5159 - accuracy: 0.7594 - val_loss: 0.4993 - val_accuracy: 0.7344\n",
      "Epoch 18/50\n",
      "20/20 [==============================] - 0s 5ms/step - loss: 0.5565 - accuracy: 0.7500 - val_loss: 0.5385 - val_accuracy: 0.6953\n",
      "Epoch 19/50\n",
      "20/20 [==============================] - 0s 7ms/step - loss: 0.5179 - accuracy: 0.7547 - val_loss: 0.5020 - val_accuracy: 0.7461\n",
      "Epoch 20/50\n",
      "20/20 [==============================] - 0s 8ms/step - loss: 0.5285 - accuracy: 0.7547 - val_loss: 0.4981 - val_accuracy: 0.7539\n",
      "Epoch 21/50\n",
      "20/20 [==============================] - 0s 5ms/step - loss: 0.5254 - accuracy: 0.7500 - val_loss: 0.5228 - val_accuracy: 0.7422\n",
      "Epoch 22/50\n",
      "20/20 [==============================] - 0s 8ms/step - loss: 0.5520 - accuracy: 0.7563 - val_loss: 0.5132 - val_accuracy: 0.7461\n",
      "Epoch 23/50\n",
      "20/20 [==============================] - 0s 7ms/step - loss: 0.4725 - accuracy: 0.8047 - val_loss: 0.5128 - val_accuracy: 0.7344\n",
      "Epoch 24/50\n",
      "20/20 [==============================] - 0s 6ms/step - loss: 0.5317 - accuracy: 0.7406 - val_loss: 0.4980 - val_accuracy: 0.7578\n",
      "Epoch 25/50\n",
      "20/20 [==============================] - 0s 10ms/step - loss: 0.5406 - accuracy: 0.7297 - val_loss: 0.5227 - val_accuracy: 0.7422\n",
      "Epoch 26/50\n",
      "20/20 [==============================] - 0s 6ms/step - loss: 0.5142 - accuracy: 0.7703 - val_loss: 0.5004 - val_accuracy: 0.7344\n",
      "Epoch 27/50\n",
      "20/20 [==============================] - 0s 5ms/step - loss: 0.4966 - accuracy: 0.7719 - val_loss: 0.5066 - val_accuracy: 0.7656\n",
      "Epoch 28/50\n",
      "20/20 [==============================] - 0s 10ms/step - loss: 0.5122 - accuracy: 0.7563 - val_loss: 0.5081 - val_accuracy: 0.7617\n",
      "Epoch 29/50\n",
      "20/20 [==============================] - 0s 5ms/step - loss: 0.4975 - accuracy: 0.7625 - val_loss: 0.5082 - val_accuracy: 0.7539\n",
      "Epoch 30/50\n",
      "20/20 [==============================] - 0s 7ms/step - loss: 0.5428 - accuracy: 0.7453 - val_loss: 0.4929 - val_accuracy: 0.7500\n",
      "Epoch 31/50\n",
      "20/20 [==============================] - 0s 10ms/step - loss: 0.4755 - accuracy: 0.8000 - val_loss: 0.4996 - val_accuracy: 0.7578\n",
      "Epoch 32/50\n",
      "20/20 [==============================] - 0s 5ms/step - loss: 0.4855 - accuracy: 0.7719 - val_loss: 0.5196 - val_accuracy: 0.7305\n",
      "Epoch 33/50\n",
      "20/20 [==============================] - 0s 8ms/step - loss: 0.5022 - accuracy: 0.7688 - val_loss: 0.5593 - val_accuracy: 0.7305\n",
      "Epoch 34/50\n",
      "20/20 [==============================] - 0s 7ms/step - loss: 0.5014 - accuracy: 0.7703 - val_loss: 0.5486 - val_accuracy: 0.7188\n",
      "Epoch 35/50\n",
      "20/20 [==============================] - 0s 5ms/step - loss: 0.5191 - accuracy: 0.7578 - val_loss: 0.5006 - val_accuracy: 0.7461\n",
      "Epoch 36/50\n",
      "20/20 [==============================] - 0s 9ms/step - loss: 0.5016 - accuracy: 0.7609 - val_loss: 0.5442 - val_accuracy: 0.7266\n",
      "Epoch 37/50\n",
      "20/20 [==============================] - 0s 7ms/step - loss: 0.4882 - accuracy: 0.7922 - val_loss: 0.6189 - val_accuracy: 0.6797\n",
      "Epoch 38/50\n",
      "20/20 [==============================] - 0s 6ms/step - loss: 0.4715 - accuracy: 0.7984 - val_loss: 0.4851 - val_accuracy: 0.7461\n",
      "Epoch 39/50\n",
      "20/20 [==============================] - 0s 10ms/step - loss: 0.4956 - accuracy: 0.7766 - val_loss: 0.5863 - val_accuracy: 0.7109\n",
      "Epoch 40/50\n",
      "20/20 [==============================] - 0s 5ms/step - loss: 0.4938 - accuracy: 0.7750 - val_loss: 0.5135 - val_accuracy: 0.7422\n",
      "Epoch 41/50\n",
      "20/20 [==============================] - 0s 6ms/step - loss: 0.5140 - accuracy: 0.7672 - val_loss: 0.4987 - val_accuracy: 0.7305\n",
      "Epoch 42/50\n",
      "20/20 [==============================] - 0s 9ms/step - loss: 0.4765 - accuracy: 0.7844 - val_loss: 0.5171 - val_accuracy: 0.7383\n",
      "Epoch 43/50\n",
      "20/20 [==============================] - 0s 6ms/step - loss: 0.4798 - accuracy: 0.7859 - val_loss: 0.4984 - val_accuracy: 0.7734\n",
      "Epoch 44/50\n",
      "20/20 [==============================] - 0s 8ms/step - loss: 0.5167 - accuracy: 0.7734 - val_loss: 0.4976 - val_accuracy: 0.7539\n",
      "Epoch 45/50\n",
      "20/20 [==============================] - 0s 8ms/step - loss: 0.4632 - accuracy: 0.8047 - val_loss: 0.5307 - val_accuracy: 0.7188\n",
      "Epoch 46/50\n",
      "20/20 [==============================] - 0s 5ms/step - loss: 0.4926 - accuracy: 0.7500 - val_loss: 0.4871 - val_accuracy: 0.7383\n",
      "Epoch 47/50\n",
      "20/20 [==============================] - 0s 9ms/step - loss: 0.4900 - accuracy: 0.7734 - val_loss: 0.4838 - val_accuracy: 0.7422\n",
      "Epoch 48/50\n",
      "20/20 [==============================] - 0s 6ms/step - loss: 0.4820 - accuracy: 0.7844 - val_loss: 0.4863 - val_accuracy: 0.7539\n",
      "Epoch 49/50\n",
      "20/20 [==============================] - 0s 6ms/step - loss: 0.5023 - accuracy: 0.7734 - val_loss: 0.4921 - val_accuracy: 0.7578\n",
      "Epoch 50/50\n",
      "20/20 [==============================] - 0s 10ms/step - loss: 0.5033 - accuracy: 0.7844 - val_loss: 0.5113 - val_accuracy: 0.7539\n"
     ]
    }
   ],
   "source": [
    "# 1. model.fit\n",
    "# 2. model -> estimator -> trian\n",
    "\n",
    "train_dataset = make_dataset(train_df,y_train,epochs=100)   # 默认 batch_size = 32\n",
    "eval_dataset = make_dataset(eval_df,y_eval,epochs=1,shuffle=False)\n",
    "history = model.fit(train_dataset,\n",
    "                    validation_data = eval_dataset,\n",
    "                    steps_per_epoch=20,\n",
    "                    validation_steps=8,\n",
    "                    epochs=50)"
   ]
  },
  {
   "cell_type": "code",
   "execution_count": null,
   "metadata": {
    "collapsed": true
   },
   "outputs": [],
   "source": []
  },
  {
   "cell_type": "code",
   "execution_count": null,
   "metadata": {
    "collapsed": true
   },
   "outputs": [],
   "source": []
  },
  {
   "cell_type": "code",
   "execution_count": null,
   "metadata": {
    "collapsed": true
   },
   "outputs": [],
   "source": []
  },
  {
   "cell_type": "code",
   "execution_count": 28,
   "metadata": {
    "ExecuteTime": {
     "end_time": "2020-05-16T05:50:14.399050Z",
     "start_time": "2020-05-16T05:50:14.244668Z"
    },
    "scrolled": false
   },
   "outputs": [],
   "source": [
    "# # 保存输出模型\n",
    "# output_dir = 'baseline_model'\n",
    "# if not os.path.exists(output_dir):\n",
    "#     os.mkdir(output_dir)\n",
    "\n",
    "# baseline_estimator = tf.estimator.BaselineClassifier(model_dir = output_dir,n_classes=2)\n",
    "# baseline_estimator.train(input_fn = lambda:make_dataset(train_df,y_train,epochs=100))\n",
    "\n",
    "# baseline_estimator.evaluate(input_fn = lambda : make_dataset(eval_df,y_eval,epochs=1,shuffle=False,batch_size=20))"
   ]
  },
  {
   "cell_type": "code",
   "execution_count": null,
   "metadata": {
    "collapsed": true
   },
   "outputs": [],
   "source": []
  },
  {
   "cell_type": "code",
   "execution_count": null,
   "metadata": {
    "collapsed": true
   },
   "outputs": [],
   "source": []
  },
  {
   "cell_type": "code",
   "execution_count": null,
   "metadata": {
    "collapsed": true
   },
   "outputs": [],
   "source": []
  },
  {
   "cell_type": "code",
   "execution_count": null,
   "metadata": {
    "collapsed": true
   },
   "outputs": [],
   "source": []
  },
  {
   "cell_type": "code",
   "execution_count": null,
   "metadata": {
    "collapsed": true
   },
   "outputs": [],
   "source": []
  },
  {
   "cell_type": "code",
   "execution_count": null,
   "metadata": {
    "collapsed": true
   },
   "outputs": [],
   "source": []
  }
 ],
 "metadata": {
  "kernelspec": {
   "display_name": "Python 3",
   "language": "python",
   "name": "python3"
  },
  "language_info": {
   "codemirror_mode": {
    "name": "ipython",
    "version": 3
   },
   "file_extension": ".py",
   "mimetype": "text/x-python",
   "name": "python",
   "nbconvert_exporter": "python",
   "pygments_lexer": "ipython3",
   "version": "3.6.2"
  }
 },
 "nbformat": 4,
 "nbformat_minor": 2
}
